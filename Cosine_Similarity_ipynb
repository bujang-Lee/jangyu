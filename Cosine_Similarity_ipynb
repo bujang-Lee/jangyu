{
  "cells": [
    {
      "cell_type": "markdown",
      "metadata": {
        "id": "view-in-github",
        "colab_type": "text"
      },
      "source": [
        "<a href=\"https://colab.research.google.com/github/bujang-Lee/jangyu/blob/main/Cosine_Similarity_ipynb\" target=\"_parent\"><img src=\"https://colab.research.google.com/assets/colab-badge.svg\" alt=\"Open In Colab\"/></a>"
      ]
    },
    {
      "cell_type": "markdown",
      "source": [
        ""
      ],
      "metadata": {
        "id": "FxwanNy-D-lm"
      },
      "id": "FxwanNy-D-lm"
    },
    {
      "cell_type": "markdown",
      "id": "1ae4abc6",
      "metadata": {
        "id": "1ae4abc6"
      },
      "source": [
        "# 코사인 유사도(Cosine Similarity)를 이용한 영화 추천 프로그램"
      ]
    },
    {
      "cell_type": "markdown",
      "id": "7edf1868",
      "metadata": {
        "id": "7edf1868"
      },
      "source": [
        "## '일상생활 속 기하' 보고서를 작성할 때 찾아본 코사인 유사도 이용해서 줄거리 기반 영화 추천 프로그램을 만들어보았다."
      ]
    },
    {
      "cell_type": "markdown",
      "id": "af2bd589",
      "metadata": {
        "id": "af2bd589"
      },
      "source": [
        "### 본격적으로 프로그램을 만들기 전  \n",
        "### Numpy 라이브러리를 이용해 코사인 유사도를 계산하는 함수 제작"
      ]
    },
    {
      "cell_type": "markdown",
      "source": [
        "![image.png](data:image/png;base64,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)"
      ],
      "metadata": {
        "id": "C02GwjPqFsWX"
      },
      "id": "C02GwjPqFsWX"
    },
    {
      "cell_type": "code",
      "execution_count": null,
      "id": "8bb0e504",
      "metadata": {
        "id": "8bb0e504"
      },
      "outputs": [],
      "source": [
        "# numpy 라이브러리 임포트\n",
        "import numpy as np\n",
        "\n",
        "# 코사인 값을 구하는 함수\n",
        "def coSim(a, b):\n",
        "  \n",
        "  # 내적\n",
        "  A_dot_B = 0\n",
        "  for idx, val in enumerate(a):\n",
        "    A_dot_B += val * b[idx]\n",
        "\n",
        "  # 벡터 크기 구하기\n",
        "  # 벡터 A 크기\n",
        "  norm_A = 0\n",
        "  for i in a:\n",
        "    norm_A += i**2\n",
        "  norm_A = norm_A**(1/2)\n",
        "\n",
        "  # 벡터 B 크기\n",
        "  norm_B = 0\n",
        "  for i in b:\n",
        "    norm_B += i**2\n",
        "  norm_B = norm_B**(1/2)\n",
        "    \n",
        "  # 코사인 값 반환 (A•B/|A||B|)\n",
        "  return A_dot_B/(norm_A*norm_B) "
      ]
    },
    {
      "cell_type": "code",
      "source": [
        "# 임의의 문서 배열(숫자는 단어의 빈도를 나타냄)\n",
        "doc1 = np.array([1, 1, 1, 1])\n",
        "doc2 = np.array([1, 0, 1, 1])\n",
        "doc3 = np.array([2, 2, 2, 2])\n",
        "\n",
        "# 함수 실행\n",
        "print('문서 1, 2의 유사도: ', coSim(doc1, doc2))\n",
        "print('문서 1, 3의 유사도: ', coSim(doc1, doc3))\n",
        "print('문서 2, 3의 유사도: ', coSim(doc2, doc3))"
      ],
      "metadata": {
        "id": "ZRPUVU2tEqfV"
      },
      "id": "ZRPUVU2tEqfV",
      "execution_count": null,
      "outputs": []
    },
    {
      "cell_type": "markdown",
      "id": "ef920d70",
      "metadata": {
        "id": "ef920d70"
      },
      "source": [
        "여기서 문서 1, 2의 유사도, 문서 2, 3의 유사도가 같다.  \n",
        "배열에 들어있는 숫자는 문서에서 단어 빈도인데, 코사인 유사도는 벡터의 크기가 아니라 벡터의 방향에 초점을 두기 때문에 유사도가 같게 나타난다."
      ]
    },
    {
      "cell_type": "markdown",
      "id": "7fb9bc1a",
      "metadata": {
        "id": "7fb9bc1a"
      },
      "source": [
        "## 프로그램 제작"
      ]
    },
    {
      "cell_type": "markdown",
      "id": "48124e1b",
      "metadata": {
        "id": "48124e1b"
      },
      "source": [
        "### 캐글 영화 데이터 샘플 확인\n",
        "데이터 다운로드 링크: https://www.kaggle.com/rounakbanik/the-movies-dataset"
      ]
    },
    {
      "cell_type": "code",
      "source": [
        "from google.colab import drive\n",
        "drive.mount('/content/drive')"
      ],
      "metadata": {
        "colab": {
          "base_uri": "https://localhost:8080/"
        },
        "id": "CspYOPvZDJ-y",
        "outputId": "d39fafe8-668f-41ba-bb01-733b565321fe"
      },
      "id": "CspYOPvZDJ-y",
      "execution_count": 1,
      "outputs": [
        {
          "output_type": "stream",
          "name": "stdout",
          "text": [
            "Drive already mounted at /content/drive; to attempt to forcibly remount, call drive.mount(\"/content/drive\", force_remount=True).\n"
          ]
        }
      ]
    },
    {
      "cell_type": "code",
      "execution_count": 2,
      "id": "65a29e18",
      "metadata": {
        "scrolled": true,
        "id": "65a29e18"
      },
      "outputs": [],
      "source": [
        "import numpy as np\n",
        "import pandas as pd\n",
        "from sklearn.feature_extraction.text import TfidfVectorizer\n",
        "from sklearn.metrics.pairwise import cosine_similarity\n",
        "\n",
        "data = pd.read_csv('/content/drive/MyDrive/Colab Notebooks/movies_metadata.csv', low_memory=False)"
      ]
    },
    {
      "cell_type": "code",
      "source": [
        "# 데이터 확인을 위해 상위 2개 샘플 출력\n",
        "data.head(2)"
      ],
      "metadata": {
        "id": "jrpFDX8cIlWi",
        "colab": {
          "base_uri": "https://localhost:8080/",
          "height": 396
        },
        "outputId": "fc4552e0-ccf3-4aaf-f22d-e6345c9586b5"
      },
      "id": "jrpFDX8cIlWi",
      "execution_count": 3,
      "outputs": [
        {
          "output_type": "execute_result",
          "data": {
            "text/plain": [
              "   adult                              belongs_to_collection    budget  \\\n",
              "0  False  {'id': 10194, 'name': 'Toy Story Collection', ...  30000000   \n",
              "1  False                                                NaN  65000000   \n",
              "\n",
              "                                              genres  \\\n",
              "0  [{'id': 16, 'name': 'Animation'}, {'id': 35, '...   \n",
              "1  [{'id': 12, 'name': 'Adventure'}, {'id': 14, '...   \n",
              "\n",
              "                               homepage    id    imdb_id original_language  \\\n",
              "0  http://toystory.disney.com/toy-story   862  tt0114709                en   \n",
              "1                                   NaN  8844  tt0113497                en   \n",
              "\n",
              "  original_title                                           overview  ...  \\\n",
              "0      Toy Story  Led by Woody, Andy's toys live happily in his ...  ...   \n",
              "1        Jumanji  When siblings Judy and Peter discover an encha...  ...   \n",
              "\n",
              "  release_date      revenue runtime  \\\n",
              "0   1995-10-30  373554033.0    81.0   \n",
              "1   1995-12-15  262797249.0   104.0   \n",
              "\n",
              "                                    spoken_languages    status  \\\n",
              "0           [{'iso_639_1': 'en', 'name': 'English'}]  Released   \n",
              "1  [{'iso_639_1': 'en', 'name': 'English'}, {'iso...  Released   \n",
              "\n",
              "                                     tagline      title  video vote_average  \\\n",
              "0                                        NaN  Toy Story  False          7.7   \n",
              "1  Roll the dice and unleash the excitement!    Jumanji  False          6.9   \n",
              "\n",
              "  vote_count  \n",
              "0     5415.0  \n",
              "1     2413.0  \n",
              "\n",
              "[2 rows x 24 columns]"
            ],
            "text/html": [
              "\n",
              "  <div id=\"df-6ac1bca7-e90f-42db-81d3-624c2c6a22e0\">\n",
              "    <div class=\"colab-df-container\">\n",
              "      <div>\n",
              "<style scoped>\n",
              "    .dataframe tbody tr th:only-of-type {\n",
              "        vertical-align: middle;\n",
              "    }\n",
              "\n",
              "    .dataframe tbody tr th {\n",
              "        vertical-align: top;\n",
              "    }\n",
              "\n",
              "    .dataframe thead th {\n",
              "        text-align: right;\n",
              "    }\n",
              "</style>\n",
              "<table border=\"1\" class=\"dataframe\">\n",
              "  <thead>\n",
              "    <tr style=\"text-align: right;\">\n",
              "      <th></th>\n",
              "      <th>adult</th>\n",
              "      <th>belongs_to_collection</th>\n",
              "      <th>budget</th>\n",
              "      <th>genres</th>\n",
              "      <th>homepage</th>\n",
              "      <th>id</th>\n",
              "      <th>imdb_id</th>\n",
              "      <th>original_language</th>\n",
              "      <th>original_title</th>\n",
              "      <th>overview</th>\n",
              "      <th>...</th>\n",
              "      <th>release_date</th>\n",
              "      <th>revenue</th>\n",
              "      <th>runtime</th>\n",
              "      <th>spoken_languages</th>\n",
              "      <th>status</th>\n",
              "      <th>tagline</th>\n",
              "      <th>title</th>\n",
              "      <th>video</th>\n",
              "      <th>vote_average</th>\n",
              "      <th>vote_count</th>\n",
              "    </tr>\n",
              "  </thead>\n",
              "  <tbody>\n",
              "    <tr>\n",
              "      <th>0</th>\n",
              "      <td>False</td>\n",
              "      <td>{'id': 10194, 'name': 'Toy Story Collection', ...</td>\n",
              "      <td>30000000</td>\n",
              "      <td>[{'id': 16, 'name': 'Animation'}, {'id': 35, '...</td>\n",
              "      <td>http://toystory.disney.com/toy-story</td>\n",
              "      <td>862</td>\n",
              "      <td>tt0114709</td>\n",
              "      <td>en</td>\n",
              "      <td>Toy Story</td>\n",
              "      <td>Led by Woody, Andy's toys live happily in his ...</td>\n",
              "      <td>...</td>\n",
              "      <td>1995-10-30</td>\n",
              "      <td>373554033.0</td>\n",
              "      <td>81.0</td>\n",
              "      <td>[{'iso_639_1': 'en', 'name': 'English'}]</td>\n",
              "      <td>Released</td>\n",
              "      <td>NaN</td>\n",
              "      <td>Toy Story</td>\n",
              "      <td>False</td>\n",
              "      <td>7.7</td>\n",
              "      <td>5415.0</td>\n",
              "    </tr>\n",
              "    <tr>\n",
              "      <th>1</th>\n",
              "      <td>False</td>\n",
              "      <td>NaN</td>\n",
              "      <td>65000000</td>\n",
              "      <td>[{'id': 12, 'name': 'Adventure'}, {'id': 14, '...</td>\n",
              "      <td>NaN</td>\n",
              "      <td>8844</td>\n",
              "      <td>tt0113497</td>\n",
              "      <td>en</td>\n",
              "      <td>Jumanji</td>\n",
              "      <td>When siblings Judy and Peter discover an encha...</td>\n",
              "      <td>...</td>\n",
              "      <td>1995-12-15</td>\n",
              "      <td>262797249.0</td>\n",
              "      <td>104.0</td>\n",
              "      <td>[{'iso_639_1': 'en', 'name': 'English'}, {'iso...</td>\n",
              "      <td>Released</td>\n",
              "      <td>Roll the dice and unleash the excitement!</td>\n",
              "      <td>Jumanji</td>\n",
              "      <td>False</td>\n",
              "      <td>6.9</td>\n",
              "      <td>2413.0</td>\n",
              "    </tr>\n",
              "  </tbody>\n",
              "</table>\n",
              "<p>2 rows × 24 columns</p>\n",
              "</div>\n",
              "      <button class=\"colab-df-convert\" onclick=\"convertToInteractive('df-6ac1bca7-e90f-42db-81d3-624c2c6a22e0')\"\n",
              "              title=\"Convert this dataframe to an interactive table.\"\n",
              "              style=\"display:none;\">\n",
              "        \n",
              "  <svg xmlns=\"http://www.w3.org/2000/svg\" height=\"24px\"viewBox=\"0 0 24 24\"\n",
              "       width=\"24px\">\n",
              "    <path d=\"M0 0h24v24H0V0z\" fill=\"none\"/>\n",
              "    <path d=\"M18.56 5.44l.94 2.06.94-2.06 2.06-.94-2.06-.94-.94-2.06-.94 2.06-2.06.94zm-11 1L8.5 8.5l.94-2.06 2.06-.94-2.06-.94L8.5 2.5l-.94 2.06-2.06.94zm10 10l.94 2.06.94-2.06 2.06-.94-2.06-.94-.94-2.06-.94 2.06-2.06.94z\"/><path d=\"M17.41 7.96l-1.37-1.37c-.4-.4-.92-.59-1.43-.59-.52 0-1.04.2-1.43.59L10.3 9.45l-7.72 7.72c-.78.78-.78 2.05 0 2.83L4 21.41c.39.39.9.59 1.41.59.51 0 1.02-.2 1.41-.59l7.78-7.78 2.81-2.81c.8-.78.8-2.07 0-2.86zM5.41 20L4 18.59l7.72-7.72 1.47 1.35L5.41 20z\"/>\n",
              "  </svg>\n",
              "      </button>\n",
              "      \n",
              "  <style>\n",
              "    .colab-df-container {\n",
              "      display:flex;\n",
              "      flex-wrap:wrap;\n",
              "      gap: 12px;\n",
              "    }\n",
              "\n",
              "    .colab-df-convert {\n",
              "      background-color: #E8F0FE;\n",
              "      border: none;\n",
              "      border-radius: 50%;\n",
              "      cursor: pointer;\n",
              "      display: none;\n",
              "      fill: #1967D2;\n",
              "      height: 32px;\n",
              "      padding: 0 0 0 0;\n",
              "      width: 32px;\n",
              "    }\n",
              "\n",
              "    .colab-df-convert:hover {\n",
              "      background-color: #E2EBFA;\n",
              "      box-shadow: 0px 1px 2px rgba(60, 64, 67, 0.3), 0px 1px 3px 1px rgba(60, 64, 67, 0.15);\n",
              "      fill: #174EA6;\n",
              "    }\n",
              "\n",
              "    [theme=dark] .colab-df-convert {\n",
              "      background-color: #3B4455;\n",
              "      fill: #D2E3FC;\n",
              "    }\n",
              "\n",
              "    [theme=dark] .colab-df-convert:hover {\n",
              "      background-color: #434B5C;\n",
              "      box-shadow: 0px 1px 3px 1px rgba(0, 0, 0, 0.15);\n",
              "      filter: drop-shadow(0px 1px 2px rgba(0, 0, 0, 0.3));\n",
              "      fill: #FFFFFF;\n",
              "    }\n",
              "  </style>\n",
              "\n",
              "      <script>\n",
              "        const buttonEl =\n",
              "          document.querySelector('#df-6ac1bca7-e90f-42db-81d3-624c2c6a22e0 button.colab-df-convert');\n",
              "        buttonEl.style.display =\n",
              "          google.colab.kernel.accessAllowed ? 'block' : 'none';\n",
              "\n",
              "        async function convertToInteractive(key) {\n",
              "          const element = document.querySelector('#df-6ac1bca7-e90f-42db-81d3-624c2c6a22e0');\n",
              "          const dataTable =\n",
              "            await google.colab.kernel.invokeFunction('convertToInteractive',\n",
              "                                                     [key], {});\n",
              "          if (!dataTable) return;\n",
              "\n",
              "          const docLinkHtml = 'Like what you see? Visit the ' +\n",
              "            '<a target=\"_blank\" href=https://colab.research.google.com/notebooks/data_table.ipynb>data table notebook</a>'\n",
              "            + ' to learn more about interactive tables.';\n",
              "          element.innerHTML = '';\n",
              "          dataTable['output_type'] = 'display_data';\n",
              "          await google.colab.output.renderOutput(dataTable, element);\n",
              "          const docLink = document.createElement('div');\n",
              "          docLink.innerHTML = docLinkHtml;\n",
              "          element.appendChild(docLink);\n",
              "        }\n",
              "      </script>\n",
              "    </div>\n",
              "  </div>\n",
              "  "
            ]
          },
          "metadata": {},
          "execution_count": 3
        }
      ]
    },
    {
      "cell_type": "code",
      "execution_count": 4,
      "id": "2bedb3c1",
      "metadata": {
        "id": "2bedb3c1"
      },
      "outputs": [],
      "source": [
        "# 상위 3만 개의 샘플을 data에 저장\n",
        "data = data.head(30000)"
      ]
    },
    {
      "cell_type": "markdown",
      "id": "df3e4420",
      "metadata": {
        "id": "df3e4420"
      },
      "source": [
        "### 영화 데이터 중 줄거리가 없는 데이터 삭제"
      ]
    },
    {
      "cell_type": "code",
      "execution_count": 5,
      "id": "41934520",
      "metadata": {
        "id": "41934520",
        "outputId": "c73b827f-b656-4d70-961e-21d37e7e6c75",
        "colab": {
          "base_uri": "https://localhost:8080/"
        }
      },
      "outputs": [
        {
          "output_type": "stream",
          "name": "stdout",
          "text": [
            "overview 열의 결측값 327 개 삭제\n"
          ]
        },
        {
          "output_type": "stream",
          "name": "stderr",
          "text": [
            "/usr/local/lib/python3.7/dist-packages/ipykernel_launcher.py:2: SettingWithCopyWarning: \n",
            "A value is trying to be set on a copy of a slice from a DataFrame.\n",
            "Try using .loc[row_indexer,col_indexer] = value instead\n",
            "\n",
            "See the caveats in the documentation: https://pandas.pydata.org/pandas-docs/stable/user_guide/indexing.html#returning-a-view-versus-a-copy\n",
            "  \n"
          ]
        }
      ],
      "source": [
        "print('overview 열의 결측값', data['overview'].isnull().sum(), '개 삭제')\n",
        "data['overview'] = data['overview'].fillna('')"
      ]
    },
    {
      "cell_type": "markdown",
      "source": [
        "###유사도 계산을 위해 영화 줄거리 데이터를 TF-IDF 행렬로 표현(벡터를 성분으로 표시)"
      ],
      "metadata": {
        "id": "0hm0-8aBJgnR"
      },
      "id": "0hm0-8aBJgnR"
    },
    {
      "cell_type": "code",
      "execution_count": 6,
      "id": "d4664592",
      "metadata": {
        "id": "d4664592",
        "outputId": "4e4521da-f57a-4eb1-9da2-ae522521ad8b",
        "colab": {
          "base_uri": "https://localhost:8080/"
        }
      },
      "outputs": [
        {
          "output_type": "stream",
          "name": "stdout",
          "text": [
            "TF-IDF 행렬의 크기(shape): (30000, 58562)\n"
          ]
        }
      ],
      "source": [
        "tfidf = TfidfVectorizer(stop_words='english')\n",
        "tfidf_matrix = tfidf.fit_transform(data['overview'])\n",
        "print('TF-IDF 행렬의 크기(shape):', tfidf_matrix.shape)"
      ]
    },
    {
      "cell_type": "markdown",
      "source": [
        "### 줄거리 데이터 간 코사인 유사도 연산(외장함수 사용)"
      ],
      "metadata": {
        "id": "nWcDw8C1JwXq"
      },
      "id": "nWcDw8C1JwXq"
    },
    {
      "cell_type": "code",
      "execution_count": 7,
      "id": "6a06b504",
      "metadata": {
        "id": "6a06b504",
        "colab": {
          "base_uri": "https://localhost:8080/"
        },
        "outputId": "0a2b0f93-8457-4fd9-fa9e-75a9427d3348"
      },
      "outputs": [
        {
          "output_type": "stream",
          "name": "stdout",
          "text": [
            "코사인 유사도 연산 결과: (30000, 30000)\n"
          ]
        }
      ],
      "source": [
        "cosine_sim = cosine_similarity(tfidf_matrix, tfidf_matrix)\n",
        "print('코사인 유사도 연산 결과:', cosine_sim.shape)"
      ]
    },
    {
      "cell_type": "code",
      "source": [
        "cosine_sim[:10]"
      ],
      "metadata": {
        "colab": {
          "base_uri": "https://localhost:8080/"
        },
        "id": "Za5j4E6JTtXd",
        "outputId": "6bb4ee12-843f-4c8c-f63f-8dbe2c357c4a"
      },
      "id": "Za5j4E6JTtXd",
      "execution_count": 8,
      "outputs": [
        {
          "output_type": "execute_result",
          "data": {
            "text/plain": [
              "array([[1.        , 0.01561351, 0.        , ..., 0.        , 0.        ,\n",
              "        0.        ],\n",
              "       [0.01561351, 1.        , 0.0486754 , ..., 0.        , 0.        ,\n",
              "        0.02282596],\n",
              "       [0.        , 0.0486754 , 1.        , ..., 0.        , 0.        ,\n",
              "        0.        ],\n",
              "       ...,\n",
              "       [0.        , 0.        , 0.00645049, ..., 0.        , 0.        ,\n",
              "        0.        ],\n",
              "       [0.        , 0.10472251, 0.        , ..., 0.        , 0.        ,\n",
              "        0.        ],\n",
              "       [0.        , 0.        , 0.        , ..., 0.        , 0.        ,\n",
              "        0.        ]])"
            ]
          },
          "metadata": {},
          "execution_count": 8
        }
      ]
    },
    {
      "cell_type": "markdown",
      "source": [
        "### 줄거리 데이터 간 코사인 유사도 연산(직접 만든 함수 사용)"
      ],
      "metadata": {
        "id": "c5Zqs4iDJ1uZ"
      },
      "id": "c5Zqs4iDJ1uZ"
    },
    {
      "cell_type": "code",
      "source": [
        "def coSim(a, b):\n",
        "  \n",
        "  # 내적\n",
        "  A_dot_B = 0\n",
        "  for idx, val in enumerate(a):\n",
        "    if(val != 0 and b[idx] != 0):\n",
        "      A_dot_B += val * b[idx]\n",
        "\n",
        "  # 벡터 크기 구하기\n",
        "  norm_A = 0\n",
        "  for i in a:\n",
        "    if(i!=0):\n",
        "      norm_A += i**2\n",
        "  norm_A = norm_A**(1/2)\n",
        "\n",
        "  norm_B = 0\n",
        "  for i in b:\n",
        "    if(i!=0):\n",
        "      norm_B += i**2\n",
        "  norm_B = norm_B**(1/2)\n",
        "    \n",
        "  return A_dot_B/(norm_A*norm_B)\n",
        "\n",
        "a = []\n",
        "b = []\n",
        "for i in tfidf_matrix:\n",
        "  for j in tfidf_matrix:\n",
        "    a.append(coSim(i, j))\n",
        "  b.append(a)\n",
        "  a = []\n",
        "\n",
        "  print(b)"
      ],
      "metadata": {
        "id": "-QWgFdJVMGcr"
      },
      "id": "-QWgFdJVMGcr",
      "execution_count": null,
      "outputs": []
    },
    {
      "cell_type": "markdown",
      "source": [
        "속도 향상을 위해서 함수 사용하지 않고 단순화한 코드"
      ],
      "metadata": {
        "id": "YD5vLZd3MxBq"
      },
      "id": "YD5vLZd3MxBq"
    },
    {
      "cell_type": "code",
      "source": [
        "a = []\n",
        "b = []\n",
        "for i in tfidf_matrix:\n",
        "  for j in tfidf_matrix:\n",
        "    A_dot_B = sum(i*j)   \n",
        "    norm_A = (sum(i*i))**(1/2)\n",
        "    norm_B = (sum(j*j))**(1/2)\n",
        "    a.append(A_dot_B/(norm_A*norm_B))\n",
        "  b.append(a)\n",
        "  a = []\n",
        "\n",
        "print(b)"
      ],
      "metadata": {
        "id": "SrWminR8Y-YF"
      },
      "id": "SrWminR8Y-YF",
      "execution_count": null,
      "outputs": []
    },
    {
      "cell_type": "markdown",
      "source": [
        "###영화 데이터에서 제목을 key, 인덱스를 value로 하는 딕셔너리 제작"
      ],
      "metadata": {
        "id": "9vpCtXLiK55d"
      },
      "id": "9vpCtXLiK55d"
    },
    {
      "cell_type": "code",
      "execution_count": 9,
      "id": "442ff241",
      "metadata": {
        "id": "442ff241"
      },
      "outputs": [],
      "source": [
        "title_to_index = dict(zip(data['title'], data.index))"
      ]
    },
    {
      "cell_type": "markdown",
      "source": [
        "###줄거리가 가장 유사한 영화 10개를 찾는 함수"
      ],
      "metadata": {
        "id": "V70NT9mDKMVJ"
      },
      "id": "V70NT9mDKMVJ"
    },
    {
      "cell_type": "code",
      "execution_count": 13,
      "id": "353df1d0",
      "metadata": {
        "id": "353df1d0"
      },
      "outputs": [],
      "source": [
        "def get_recommendations(title, cosine_sim=cosine_sim):\n",
        "  # 선택한 영화의 타이틀로부터 해당 영화의 인덱스를 가져옴\n",
        "  idx = title_to_index[title]\n",
        "  \n",
        "  # 해당 영화와 다른 모든 영화의 유사도 가져옴\n",
        "  sim_scores = list(enumerate(cosine_sim[idx]))\n",
        "\n",
        "  # 유사도에 따라 영화 정렬\n",
        "  sim_scores = sorted(sim_scores, key=lambda x: x[1], reverse=True)\n",
        "\n",
        "  # 유사도가 높은 상위 10개 영화 정렬\n",
        "  sim_scores = sim_scores[1:11]\n",
        "\n",
        "  # 가장 유사한 10개의 영화 인덱스 얻음\n",
        "  movie_index = [idx[0] for idx in sim_scores]\n",
        "\n",
        "  # 가장 유사한 10개의 영화 제목 출력\n",
        "  return data['title'].iloc[movie_index]"
      ]
    },
    {
      "cell_type": "markdown",
      "source": [
        "###함수 실행"
      ],
      "metadata": {
        "id": "E5H1a-0RKRmi"
      },
      "id": "E5H1a-0RKRmi"
    },
    {
      "cell_type": "code",
      "source": [
        "get_recommendations('The Dark Knight Rises')"
      ],
      "metadata": {
        "id": "i7V8KUzc7Hpb",
        "outputId": "fbf49570-329d-4a1f-d712-932831ea86dc",
        "colab": {
          "base_uri": "https://localhost:8080/"
        }
      },
      "id": "i7V8KUzc7Hpb",
      "execution_count": 14,
      "outputs": [
        {
          "output_type": "execute_result",
          "data": {
            "text/plain": [
              "12481                                      The Dark Knight\n",
              "150                                         Batman Forever\n",
              "1328                                        Batman Returns\n",
              "15511                           Batman: Under the Red Hood\n",
              "585                                                 Batman\n",
              "21194    Batman Unmasked: The Psychology of the Dark Kn...\n",
              "9230                    Batman Beyond: Return of the Joker\n",
              "18035                                     Batman: Year One\n",
              "19792              Batman: The Dark Knight Returns, Part 1\n",
              "3095                          Batman: Mask of the Phantasm\n",
              "Name: title, dtype: object"
            ]
          },
          "metadata": {},
          "execution_count": 14
        }
      ]
    },
    {
      "cell_type": "markdown",
      "source": [
        "다크나이트 라이즈의 줄거리와 코사인 유사도를 구했을 때\n",
        "가장 유사도가 높은 영화 10개를 추천했는데, 모두 배트맨 영화를 찾아낸 것을 알 수 있다."
      ],
      "metadata": {
        "id": "tUjzJKY9MT_o"
      },
      "id": "tUjzJKY9MT_o"
    },
    {
      "cell_type": "markdown",
      "source": [
        "기하 수업을 듣고 공부를 하면서 벡터의 내적이 어떻게 활용되는지 궁금했다.\n",
        "\n",
        "컴퓨터를 이용해서 영화 추천 등에도 사용할 수 있다는 것을 알고, 직접 만들어보니 벡터라는 체계에 더욱 친숙해졌다. 다른 기하 개념들도 프로그래밍에 활용되는 것들이 있는지 알아보고 싶어졌다."
      ],
      "metadata": {
        "id": "YKAe3c3iO2sJ"
      },
      "id": "YKAe3c3iO2sJ"
    }
  ],
  "metadata": {
    "kernelspec": {
      "display_name": "Python 3 (ipykernel)",
      "language": "python",
      "name": "python3"
    },
    "language_info": {
      "codemirror_mode": {
        "name": "ipython",
        "version": 3
      },
      "file_extension": ".py",
      "mimetype": "text/x-python",
      "name": "python",
      "nbconvert_exporter": "python",
      "pygments_lexer": "ipython3",
      "version": "3.9.7"
    },
    "colab": {
      "name": "Cosine Similarity.ipynb의 사본",
      "provenance": [],
      "collapsed_sections": [],
      "include_colab_link": true
    }
  },
  "nbformat": 4,
  "nbformat_minor": 5
}